{
  "nbformat": 4,
  "nbformat_minor": 0,
  "metadata": {
    "colab": {
      "provenance": [],
      "toc_visible": true
    },
    "kernelspec": {
      "name": "python3",
      "display_name": "Python 3"
    },
    "language_info": {
      "name": "python"
    }
  },
  "cells": [
    {
      "cell_type": "markdown",
      "source": [
        "## Install requirements"
      ],
      "metadata": {
        "id": "DVDCkFVHg3Pd"
      }
    },
    {
      "cell_type": "code",
      "source": [
        "!pip install transformers"
      ],
      "metadata": {
        "id": "nlV7RFsOg4k1"
      },
      "execution_count": null,
      "outputs": []
    },
    {
      "cell_type": "markdown",
      "source": [
        "## Clone the github repo"
      ],
      "metadata": {
        "id": "I5PATSp-gsKE"
      }
    },
    {
      "cell_type": "code",
      "source": [
        "!git clone https://github.com/vasilikikou/memegraphs.git"
      ],
      "metadata": {
        "id": "rzePHcmTgrCs"
      },
      "execution_count": null,
      "outputs": []
    },
    {
      "cell_type": "markdown",
      "source": [
        "## Download the MultiOFF dataset\n",
        "\n",
        "Find the training, validation and test sets [here](https://drive.google.com/drive/folders/1hKLOtpVmF45IoBmJPwojgq6XraLtHmV6?usp=sharing), in the `Split Dataset` folder. Download them to the `memegraphs/data` folder."
      ],
      "metadata": {
        "id": "3oI9Aq9DglJp"
      }
    },
    {
      "cell_type": "markdown",
      "source": [
        "## Models"
      ],
      "metadata": {
        "id": "NgSN6yYkg93H"
      }
    },
    {
      "cell_type": "markdown",
      "source": [
        "### TxtBERT"
      ],
      "metadata": {
        "id": "09D0vpzFjylf"
      }
    },
    {
      "cell_type": "code",
      "source": [
        "# Training\n",
        "!python memegraphs/code/txtbert.py"
      ],
      "metadata": {
        "id": "HmOfFBH-g9MK"
      },
      "execution_count": null,
      "outputs": []
    },
    {
      "cell_type": "code",
      "source": [
        "# Inference\n",
        "!python memegraphs/code/txtbert_inference.py"
      ],
      "metadata": {
        "id": "YtAI-OsEkJud"
      },
      "execution_count": null,
      "outputs": []
    },
    {
      "cell_type": "markdown",
      "source": [
        "### ImgBERT"
      ],
      "metadata": {
        "id": "QBizv-doj1sK"
      }
    },
    {
      "cell_type": "code",
      "source": [
        "# Training\n",
        "!python memegraphs/code/imgbert.py"
      ],
      "metadata": {
        "id": "ABktch0RklB2"
      },
      "execution_count": null,
      "outputs": []
    },
    {
      "cell_type": "code",
      "source": [
        "# Inference\n",
        "!python memegraphs/code/imgbert_inference.py"
      ],
      "metadata": {
        "id": "RVj8rNRKkuVb"
      },
      "execution_count": null,
      "outputs": []
    },
    {
      "cell_type": "markdown",
      "source": [
        "### MemeGraphs[SceneGr]"
      ],
      "metadata": {
        "id": "3ra5A6y6j3bX"
      }
    },
    {
      "cell_type": "code",
      "source": [
        "# Training\n",
        "\n",
        "# Manual setting\n",
        "!python memegraphs/code/txtbert_sg_manual.py\n",
        "\n",
        "# Automatic setting\n",
        "!python memegraphs/code/txtbert_sg_automatic.py"
      ],
      "metadata": {
        "id": "x9jhI0T5kaDA"
      },
      "execution_count": null,
      "outputs": []
    },
    {
      "cell_type": "code",
      "source": [
        "# Inference\n",
        "\n",
        "# Manual/manual setting\n",
        "!python memegraphs/code/txtbert_sg_inference.py \"manual\" \"manual\"\n",
        "\n",
        "# Manual/automatic setting\n",
        "!python memegraphs/code/txtbert_sg_inference.py \"manual\" \"automatic\"\n",
        "\n",
        "# Automatic/automatic setting\n",
        "!python memegraphs/code/txtbert_sg_inference.py \"automatic\" \"automatic\""
      ],
      "metadata": {
        "id": "fcMXvhwSlDr3"
      },
      "execution_count": null,
      "outputs": []
    },
    {
      "cell_type": "markdown",
      "source": [
        "### MemeGraphs[Know]"
      ],
      "metadata": {
        "id": "lM-UG7Mbka33"
      }
    },
    {
      "cell_type": "code",
      "source": [
        "# Training\n",
        "\n",
        "# Manual setting\n",
        "!python memegraphs/code/txtbert_kb_manual.py\n",
        "\n",
        "# Automatic setting\n",
        "!python memegraphs/code/txtbert_kb_automatic.py"
      ],
      "metadata": {
        "id": "71TwR47EkfBw"
      },
      "execution_count": null,
      "outputs": []
    },
    {
      "cell_type": "code",
      "source": [
        "# Inference\n",
        "\n",
        "# Manual/manual setting\n",
        "!python memegraphs/code/txtbert_kb_inference.py \"manual\" \"manual\"\n",
        "\n",
        "# Manual/automatic setting\n",
        "!python memegraphs/code/txtbert_kb_inference.py \"manual\" \"automatic\"\n",
        "\n",
        "# Automatic/automatic setting\n",
        "!python memegraphs/code/txtbert_kb_inference.py \"automatic\" \"automatic\""
      ],
      "metadata": {
        "id": "VsK1T2MFlR_I"
      },
      "execution_count": null,
      "outputs": []
    },
    {
      "cell_type": "markdown",
      "source": [
        "### MemeGraphs[SceneGr+Know]"
      ],
      "metadata": {
        "id": "fOCETgVakfRX"
      }
    },
    {
      "cell_type": "code",
      "source": [
        "# Training\n",
        "\n",
        "# Manual setting\n",
        "!python memegraphs/code/txtbert_kg_manual.py\n",
        "\n",
        "# Automatic setting\n",
        "!python memegraphs/code/txtbert_kg_automatic.py"
      ],
      "metadata": {
        "id": "-JJg_yCllVmO"
      },
      "execution_count": null,
      "outputs": []
    },
    {
      "cell_type": "code",
      "source": [
        "# Inference\n",
        "\n",
        "# Manual/manual setting\n",
        "!python memegraphs/code/txtbert_kg_inference.py \"manual\" \"manual\"\n",
        "\n",
        "# Manual/automatic setting\n",
        "!python memegraphs/code/txtbert_kg_inference.py \"manual\" \"automatic\"\n",
        "\n",
        "# Automatic/automatic setting\n",
        "!python memegraphs/code/txtbert_kg_inference.py \"automatic\" \"automatic\""
      ],
      "metadata": {
        "id": "-ym_1NMslYMV"
      },
      "execution_count": null,
      "outputs": []
    }
  ]
}